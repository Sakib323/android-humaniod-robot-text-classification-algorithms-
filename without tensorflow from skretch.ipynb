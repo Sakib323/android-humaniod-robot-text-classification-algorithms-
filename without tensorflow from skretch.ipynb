{
 "cells": [
  {
   "cell_type": "code",
   "execution_count": 5,
   "id": "e681006f",
   "metadata": {},
   "outputs": [],
   "source": [
    "import math\n",
    "import numpy as np\n",
    "def sigmoid_numpy(x):\n",
    "    sig=1/(1+math.exp(-x))\n",
    "    return sig\n",
    "def log_loss(y_true,y_predicted):\n",
    "    epsilon=1e-15\n",
    "    y_predicted_new=[max(i,epsilon)for i in y_predicted]\n",
    "    y_predicted_new=[min(i,1-epsilon)for i in y_predicted_new]\n",
    "    y_predicted_new=np.array(y_predicted_new)\n",
    "    return -np.mean(y_true*math.log(y_predicted_new)+(1-y_true)*math.log(1-y_predicted_new))\n",
    "class myNN():\n",
    "    def __init__(self):\n",
    "        self.w1=1\n",
    "        self.w2=1\n",
    "        self.bias=0\n",
    "    def fit(self,X,y,epochs,loss_thresold):\n",
    "        self.w1,self.w2,self.bias=self.gradient_descent(self,X['age'],X['affordibility'],y,epochs,loss_thresold)\n",
    "    def predict(self,X_test):\n",
    "        weighted_sum=self.w1*X_test['age']+self.w2*X_test['affordibility']+self.bias\n",
    "        return sigmoid_numpy(weighted_sum)\n",
    "def gradient_descent(self,age,affordibility,y_true,epochs,loss_thresold):\n",
    "    w1,w2=1\n",
    "    bias=0\n",
    "    rate=0.5\n",
    "    n=len(age)\n",
    "    for i in range(epochs):\n",
    "        weighted_sum=w1*age+w2*affordibility+bias\n",
    "        y_predicted=sigmoid_numpy(weighted_sum)\n",
    "        loss=log_loss(y_true,y_predicted)\n",
    "        w1d=(1/n)*np.dot(np.transpose(age),(y_predicted-y_true))\n",
    "        w2d=(1/n)*np.dot(np.transpose(affordibility),(y_predicted-y_true))\n",
    "        bias_d=np.mean(y_predicted-y_true)\n",
    "        w1=w1-rate*w1d\n",
    "        w2=w2-rate*w2d\n",
    "        bias=bias-rate*bias_d\n",
    "        if i%50==0:\n",
    "            print(f'Epoch:{i},w1:{w1},w2:{w2},bias:{bias},loss:{loss}')\n",
    "        if(loss<=loss_thresold):\n",
    "            break\n",
    "    return w1,w2,bias    "
   ]
  },
  {
   "cell_type": "code",
   "execution_count": null,
   "id": "725a810c",
   "metadata": {},
   "outputs": [],
   "source": []
  }
 ],
 "metadata": {
  "kernelspec": {
   "display_name": "Python 3 (ipykernel)",
   "language": "python",
   "name": "python3"
  },
  "language_info": {
   "codemirror_mode": {
    "name": "ipython",
    "version": 3
   },
   "file_extension": ".py",
   "mimetype": "text/x-python",
   "name": "python",
   "nbconvert_exporter": "python",
   "pygments_lexer": "ipython3",
   "version": "3.9.7"
  }
 },
 "nbformat": 4,
 "nbformat_minor": 5
}
